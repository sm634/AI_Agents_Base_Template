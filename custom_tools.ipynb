{
 "cells": [
  {
   "cell_type": "code",
   "execution_count": 1,
   "id": "8766e40c",
   "metadata": {},
   "outputs": [],
   "source": [
    "\n",
    "from typing import Dict, Any, Optional, List, Annotated, TypedDict, Union\n",
    "import operator\n",
    "\n",
    "# ----- Shared State Schema -----\n",
    "class AgentState(TypedDict):\n",
    "    user_input: str\n",
    "    supervisor_decision: Optional[str] = None\n",
    "    maximo_payload: Optional[str] = None\n",
    "    maximo_agent_response: Optional[str] = None\n",
    "    vector_search_result: Optional[str] = None\n",
    "    final_response: Optional[str] = None\n",
    "    memory_chain: Annotated[List[Dict[str, Any]], operator.add] = []\n"
   ]
  },
  {
   "cell_type": "code",
   "execution_count": 4,
   "id": "e53e067c",
   "metadata": {},
   "outputs": [],
   "source": [
    "from langchain.agents import tool\n",
    "import ast\n",
    "from connectors.maximo_connector import MaximoConnector\n",
    "\n",
    "# instantiate maximo connector.\n",
    "maximo_connector = MaximoConnector()"
   ]
  },
  {
   "cell_type": "code",
   "execution_count": 5,
   "id": "174e117b",
   "metadata": {},
   "outputs": [],
   "source": [
    "from pydantic import BaseModel, Field\n",
    "class MaiximoPayloadInput(BaseModel):\n",
    "    maximo_payload: str = Field(description=\"Thing to search for\")"
   ]
  },
  {
   "cell_type": "code",
   "execution_count": 6,
   "id": "97128817",
   "metadata": {},
   "outputs": [],
   "source": [
    "\n",
    "@tool(args_schema=MaiximoPayloadInput)\n",
    "def perform_maximo_operation(maximo_payload: Union[Dict, str]):\n",
    "    \"\"\"\n",
    "    Uses the maximo tools at the llm with tools to perform the maximo operation.\n",
    "    :param state: The state of the agent containing the user input and states to be updated.\n",
    "    :return: A dictionary containing the Maximo payload.\n",
    "    \"\"\"\n",
    "    # Check to see the maximo payload returned, and the response type to perform the correct action.\n",
    "    if isinstance(maximo_payload, str):\n",
    "        maximo_payload = ast.literal_eval(maximo_payload)\n",
    "\n",
    "    request_type = maximo_payload.get(\"request_type\")\n",
    "    params = maximo_payload.get(\"params\")\n",
    "\n",
    "    if request_type.lower() == 'get':\n",
    "        result = maximo_connector.get_workorder_details(params)\n",
    "    elif request_type.lower() == 'post':\n",
    "        result = maximo_connector.post_workorder_details(params)\n",
    "    else:\n",
    "        result = {\n",
    "            \"message\": \"This query is not related to Maximo.\"\n",
    "        }\n",
    "\n",
    "    return {\n",
    "        \"maximo_agent_response\": result\n",
    "    }\n"
   ]
  },
  {
   "cell_type": "code",
   "execution_count": null,
   "id": "57fa38ac",
   "metadata": {},
   "outputs": [],
   "source": [
    "perform_maximo_operation.description"
   ]
  },
  {
   "cell_type": "code",
   "execution_count": null,
   "id": "8df93e83",
   "metadata": {},
   "outputs": [],
   "source": [
    "perform_maximo_operation.name"
   ]
  },
  {
   "cell_type": "code",
   "execution_count": null,
   "id": "ea16af40",
   "metadata": {},
   "outputs": [],
   "source": [
    "perform_maximo_operation.args"
   ]
  },
  {
   "cell_type": "code",
   "execution_count": null,
   "id": "d8f28e32",
   "metadata": {},
   "outputs": [],
   "source": []
  }
 ],
 "metadata": {
  "kernelspec": {
   "display_name": "base_agent_env",
   "language": "python",
   "name": "python3"
  },
  "language_info": {
   "codemirror_mode": {
    "name": "ipython",
    "version": 3
   },
   "file_extension": ".py",
   "mimetype": "text/x-python",
   "name": "python",
   "nbconvert_exporter": "python",
   "pygments_lexer": "ipython3",
   "version": "3.12.9"
  }
 },
 "nbformat": 4,
 "nbformat_minor": 5
}
