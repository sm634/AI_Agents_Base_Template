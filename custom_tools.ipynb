{
 "cells": [
  {
   "cell_type": "code",
   "execution_count": 1,
   "id": "8766e40c",
   "metadata": {},
   "outputs": [],
   "source": [
    "\n",
    "from typing import Dict, Any, Optional, List, Annotated, TypedDict, Union\n",
    "from langchain_core.messages import HumanMessage, SystemMessage\n",
    "import operator\n",
    "\n",
    "# ----- Shared State Schema -----\n",
    "class AgentState(TypedDict):\n",
    "    user_input: str\n",
    "    supervisor_decision: Optional[str] = None\n",
    "    maximo_payload: Optional[str] = None\n",
    "    maximo_agent_response: Optional[str] = None\n",
    "    vector_search_result: Optional[str] = None\n",
    "    final_response: Optional[str] = None\n",
    "    memory_chain: Annotated[List[Dict[str, Any]], operator.add] = []\n"
   ]
  },
  {
   "cell_type": "code",
   "execution_count": 2,
   "id": "e53e067c",
   "metadata": {},
   "outputs": [],
   "source": [
    "from langchain.agents import tool\n",
    "import ast\n",
    "from connectors.maximo_connector import MaximoConnector\n",
    "\n",
    "# instantiate maximo connector.\n",
    "maximo_connector = MaximoConnector()"
   ]
  },
  {
   "cell_type": "code",
   "execution_count": 3,
   "id": "174e117b",
   "metadata": {},
   "outputs": [],
   "source": [
    "from pydantic import BaseModel, Field\n",
    "class MaiximoPayloadInput(BaseModel):\n",
    "    maximo_payload: Union[Dict, str] = Field(description=\"The payload to be sent to Maximo.\")"
   ]
  },
  {
   "cell_type": "code",
   "execution_count": 4,
   "id": "97128817",
   "metadata": {},
   "outputs": [],
   "source": [
    "\n",
    "@tool(args_schema=MaiximoPayloadInput)\n",
    "def perform_maximo_operation(maximo_payload: Union[Dict, str]):\n",
    "    \"\"\"\n",
    "    Uses the maximo tools at the llm with tools to perform the maximo operation.\n",
    "    :param state: The state of the agent containing the user input and states to be updated.\n",
    "    :return: A dictionary containing the Maximo payload.\n",
    "    \"\"\"\n",
    "    # Check to see the maximo payload returned, and the response type to perform the correct action.\n",
    "    if isinstance(maximo_payload, str):\n",
    "        maximo_payload = ast.literal_eval(maximo_payload)\n",
    "\n",
    "    request_type = maximo_payload.get(\"request_type\")\n",
    "    params = maximo_payload.get(\"params\")\n",
    "\n",
    "    if request_type.lower() == 'get':\n",
    "        result = maximo_connector.get_workorder_details(params)\n",
    "    elif request_type.lower() == 'post':\n",
    "        result = maximo_connector.post_workorder_details(params)\n",
    "    else:\n",
    "        result = {\n",
    "            \"message\": \"This query is not related to Maximo.\"\n",
    "        }\n",
    "\n",
    "    return {\n",
    "        \"maximo_agent_response\": result\n",
    "    }\n"
   ]
  },
  {
   "cell_type": "code",
   "execution_count": 5,
   "id": "57fa38ac",
   "metadata": {},
   "outputs": [
    {
     "data": {
      "text/plain": [
       "'Uses the maximo tools at the llm with tools to perform the maximo operation.\\n:param state: The state of the agent containing the user input and states to be updated.\\n:return: A dictionary containing the Maximo payload.'"
      ]
     },
     "execution_count": 5,
     "metadata": {},
     "output_type": "execute_result"
    }
   ],
   "source": [
    "perform_maximo_operation.description"
   ]
  },
  {
   "cell_type": "code",
   "execution_count": 6,
   "id": "8df93e83",
   "metadata": {},
   "outputs": [
    {
     "data": {
      "text/plain": [
       "'perform_maximo_operation'"
      ]
     },
     "execution_count": 6,
     "metadata": {},
     "output_type": "execute_result"
    }
   ],
   "source": [
    "perform_maximo_operation.name"
   ]
  },
  {
   "cell_type": "code",
   "execution_count": 7,
   "id": "ea16af40",
   "metadata": {},
   "outputs": [
    {
     "data": {
      "text/plain": [
       "{'maximo_payload': {'anyOf': [{'additionalProperties': True, 'type': 'object'},\n",
       "   {'type': 'string'}],\n",
       "  'description': 'The payload to be sent to Maximo.',\n",
       "  'title': 'Maximo Payload'}}"
      ]
     },
     "execution_count": 7,
     "metadata": {},
     "output_type": "execute_result"
    }
   ],
   "source": [
    "perform_maximo_operation.args"
   ]
  },
  {
   "cell_type": "code",
   "execution_count": 8,
   "id": "d8f28e32",
   "metadata": {},
   "outputs": [],
   "source": [
    "class MaximoPayloadGeneratorInput(BaseModel):\n",
    "    user_input: str = Field(description=\"Thing to search for\")\n",
    "    system_prompt: SystemMessage = Field(description=\"System prompt to use for generating the payload\")\n",
    "    llm: Any = Field(description=\"LLM to use for generating the payload\")\n",
    "\n",
    "@tool(args_schema=MaximoPayloadGeneratorInput)\n",
    "def generate_maximo_payload(user_input, system_prompt, llm) -> Dict[str, Any]:\n",
    "    \"\"\"\n",
    "    Generates the Maximo payload based on the user input.\n",
    "    :param state: The state of the agent containing the user input and to be updated.\n",
    "    :return: A dictionary containing the Maximo payload.\n",
    "    \"\"\"\n",
    "    # Check if the user input is classified as a Maximo operation\n",
    "    user_input = HumanMessage(\n",
    "        content=user_input\n",
    "    )\n",
    "    messages = [\n",
    "        system_prompt,\n",
    "        user_input,\n",
    "    ]\n",
    "\n",
    "    response = llm.invoke(messages)\n",
    "\n",
    "    # validate do a dict.\n",
    "    maximo_payload = ast.literal_eval(response.content)\n",
    "\n",
    "    return maximo_payload"
   ]
  },
  {
   "cell_type": "code",
   "execution_count": 9,
   "id": "f7213250",
   "metadata": {},
   "outputs": [],
   "source": [
    "from langchain_core.utils.function_calling import convert_to_openai_function"
   ]
  },
  {
   "cell_type": "code",
   "execution_count": 10,
   "id": "989214d4",
   "metadata": {},
   "outputs": [
    {
     "data": {
      "text/plain": [
       "{'name': 'perform_maximo_operation',\n",
       " 'description': 'Uses the maximo tools at the llm with tools to perform the maximo operation.\\n:param state: The state of the agent containing the user input and states to be updated.\\n:return: A dictionary containing the Maximo payload.',\n",
       " 'parameters': {'properties': {'maximo_payload': {'anyOf': [{'additionalProperties': True,\n",
       "      'type': 'object'},\n",
       "     {'type': 'string'}],\n",
       "    'description': 'The payload to be sent to Maximo.'}},\n",
       "  'required': ['maximo_payload'],\n",
       "  'type': 'object'}}"
      ]
     },
     "execution_count": 10,
     "metadata": {},
     "output_type": "execute_result"
    }
   ],
   "source": [
    "convert_to_openai_function(perform_maximo_operation)"
   ]
  },
  {
   "cell_type": "code",
   "execution_count": 11,
   "id": "6e3ab272",
   "metadata": {},
   "outputs": [
    {
     "data": {
      "text/plain": [
       "{'maximo_agent_response': [{'_rowstamp': '375928',\n",
       "   'wopriority': 5,\n",
       "   'description': 'Scale Calibration on Dock Mis-reading',\n",
       "   'href': 'http://localhost/maximo/api/os/mxapiwo/_QkVERk9SRC8yMDAz',\n",
       "   'wonum': '2003'},\n",
       "  {'_rowstamp': '375661',\n",
       "   'wopriority': 2,\n",
       "   'description': 'Check-out Alignment of Steel Support Bracket',\n",
       "   'href': 'http://localhost/maximo/api/os/mxapiwo/_QkVERk9SRC8yMDA2',\n",
       "   'wonum': '2006'},\n",
       "  {'_rowstamp': '375663',\n",
       "   'wopriority': 5,\n",
       "   'description': 'Fire Door Cable Broken',\n",
       "   'href': 'http://localhost/maximo/api/os/mxapiwo/_QkVERk9SRC81MDA4',\n",
       "   'wonum': '5008'},\n",
       "  {'_rowstamp': '375666',\n",
       "   'wopriority': 2,\n",
       "   'description': 'Check-out Leaking',\n",
       "   'href': 'http://localhost/maximo/api/os/mxapiwo/_QkVERk9SRC8yMDA1',\n",
       "   'wonum': '2005'},\n",
       "  {'_rowstamp': '375669',\n",
       "   'wopriority': 3,\n",
       "   'description': 'Ventilation Fan - Check-out Noise',\n",
       "   'href': 'http://localhost/maximo/api/os/mxapiwo/_QkVERk9SRC8yMDAx',\n",
       "   'wonum': '2001'},\n",
       "  {'_rowstamp': '375673',\n",
       "   'wopriority': 2,\n",
       "   'description': 'Feeder Jammed',\n",
       "   'href': 'http://localhost/maximo/api/os/mxapiwo/_QkVERk9SRC8yMDA0',\n",
       "   'wonum': '2004'},\n",
       "  {'_rowstamp': '375680',\n",
       "   'wopriority': 5,\n",
       "   'description': 'Ventilator in Boiler Room Making Noise - Check-out',\n",
       "   'href': 'http://localhost/maximo/api/os/mxapiwo/_QkVERk9SRC81MDA5',\n",
       "   'wonum': '5009'},\n",
       "  {'_rowstamp': '375682',\n",
       "   'wopriority': 5,\n",
       "   'description': 'Feeder Jammed',\n",
       "   'href': 'http://localhost/maximo/api/os/mxapiwo/_QkVERk9SRC81MDA0',\n",
       "   'wonum': '5004'},\n",
       "  {'_rowstamp': '375683',\n",
       "   'wopriority': 2,\n",
       "   'description': 'Window Broken in Shipping Dept.',\n",
       "   'href': 'http://localhost/maximo/api/os/mxapiwo/_QkVERk9SRC8yMDAw',\n",
       "   'wonum': '2000'},\n",
       "  {'_rowstamp': '375684',\n",
       "   'wopriority': 1,\n",
       "   'description': 'Stop Guard on Shipping Dock',\n",
       "   'href': 'http://localhost/maximo/api/os/mxapiwo/_QkVERk9SRC81MDAy',\n",
       "   'wonum': '5002'},\n",
       "  {'_rowstamp': '375688',\n",
       "   'wopriority': 2,\n",
       "   'description': 'Check-out Alignment of Steel Support Bracket',\n",
       "   'href': 'http://localhost/maximo/api/os/mxapiwo/_QkVERk9SRC81MDA2',\n",
       "   'wonum': '5006'},\n",
       "  {'_rowstamp': '375690',\n",
       "   'wopriority': 3,\n",
       "   'description': 'Stop Guard on Shipping Dock',\n",
       "   'href': 'http://localhost/maximo/api/os/mxapiwo/_QkVERk9SRC8yMDAy',\n",
       "   'wonum': '2002'},\n",
       "  {'_rowstamp': '375691',\n",
       "   'wopriority': 5,\n",
       "   'description': 'Ventilator in Boiler Room Making Noise - Check-out',\n",
       "   'href': 'http://localhost/maximo/api/os/mxapiwo/_QkVERk9SRC8yMDA5',\n",
       "   'wonum': '2009'},\n",
       "  {'_rowstamp': '375840',\n",
       "   'wopriority': 3,\n",
       "   'description': 'Ventilation Fan - Check-out Noise',\n",
       "   'href': 'http://localhost/maximo/api/os/mxapiwo/_QkVERk9SRC81MDAx',\n",
       "   'wonum': '5001'},\n",
       "  {'_rowstamp': '376088',\n",
       "   'wopriority': 8,\n",
       "   'description': 'Packaging Mach. Elevator & Drainpan Inspection',\n",
       "   'href': 'http://localhost/maximo/api/os/mxapiwo/_QkVERk9SRC8xMDA3',\n",
       "   'wonum': '1007'},\n",
       "  {'_rowstamp': '375703',\n",
       "   'wopriority': 2,\n",
       "   'description': 'Window Broken in Shipping Dept.',\n",
       "   'href': 'http://localhost/maximo/api/os/mxapiwo/_QkVERk9SRC81MDAw',\n",
       "   'wonum': '5000'},\n",
       "  {'_rowstamp': '375721',\n",
       "   'wopriority': 7,\n",
       "   'description': 'Repair Damaged Conduit Feeding Generator',\n",
       "   'href': 'http://localhost/maximo/api/os/mxapiwo/_QkVERk9SRC8xMDA4',\n",
       "   'wonum': '1008'},\n",
       "  {'_rowstamp': '375726',\n",
       "   'wopriority': 8,\n",
       "   'description': 'Fire Door Cable Broken',\n",
       "   'href': 'http://localhost/maximo/api/os/mxapiwo/_QkVERk9SRC8yMDA4',\n",
       "   'wonum': '2008'},\n",
       "  {'_rowstamp': '375806',\n",
       "   'wopriority': 2,\n",
       "   'description': 'Air Filter - Check-out',\n",
       "   'href': 'http://localhost/maximo/api/os/mxapiwo/_QkVERk9SRC81MDA3',\n",
       "   'wonum': '5007'},\n",
       "  {'_rowstamp': '375808',\n",
       "   'wopriority': 4,\n",
       "   'description': 'Check-out Leaking',\n",
       "   'href': 'http://localhost/maximo/api/os/mxapiwo/_QkVERk9SRC81MDA1',\n",
       "   'wonum': '5005'},\n",
       "  {'_rowstamp': '375810',\n",
       "   'wopriority': 1,\n",
       "   'description': 'Scale Calibration on Dock Mis-reading',\n",
       "   'href': 'http://localhost/maximo/api/os/mxapiwo/_QkVERk9SRC81MDAz',\n",
       "   'wonum': '5003'},\n",
       "  {'_rowstamp': '375896',\n",
       "   'wopriority': 7,\n",
       "   'description': 'Feedwater Pump Service',\n",
       "   'href': 'http://localhost/maximo/api/os/mxapiwo/_QkVERk9SRC8xMDA2',\n",
       "   'wonum': '1006'},\n",
       "  {'_rowstamp': '375897',\n",
       "   'wopriority': 5,\n",
       "   'description': 'Air Filter - Check-out',\n",
       "   'href': 'http://localhost/maximo/api/os/mxapiwo/_QkVERk9SRC8yMDA3',\n",
       "   'wonum': '2007'}]}"
      ]
     },
     "execution_count": 11,
     "metadata": {},
     "output_type": "execute_result"
    }
   ],
   "source": [
    "params1 = {\n",
    "    \"maximo_payload\": {\n",
    "        \"request_type\": \"get\",\n",
    "        \"params\": {\n",
    "            \"oslc.where\": 'reportdate=\"1998-12-31T09:00:00+00:00\"',\n",
    "            \"oslc.select\": \"description,wopriority,wonum\",\n",
    "            \"lean\": \"1\",\n",
    "            \"ignorecollectionref\": \"1\"\n",
    "        }\n",
    "    }\n",
    "}\n",
    "\n",
    "perform_maximo_operation.invoke(params1)"
   ]
  },
  {
   "cell_type": "code",
   "execution_count": 12,
   "id": "0533cebd",
   "metadata": {},
   "outputs": [
    {
     "data": {
      "text/plain": [
       "{'maximo_agent_response': [{'_rowstamp': '375703',\n",
       "   'wopriority': 2,\n",
       "   'description': 'Window Broken in Shipping Dept.',\n",
       "   'href': 'http://localhost/maximo/api/os/mxapiwo/_QkVERk9SRC81MDAw',\n",
       "   'wonum': '5000'},\n",
       "  {'_rowstamp': '375721',\n",
       "   'wopriority': 7,\n",
       "   'description': 'Repair Damaged Conduit Feeding Generator',\n",
       "   'href': 'http://localhost/maximo/api/os/mxapiwo/_QkVERk9SRC8xMDA4',\n",
       "   'wonum': '1008'},\n",
       "  {'_rowstamp': '375726',\n",
       "   'wopriority': 8,\n",
       "   'description': 'Fire Door Cable Broken',\n",
       "   'href': 'http://localhost/maximo/api/os/mxapiwo/_QkVERk9SRC8yMDA4',\n",
       "   'wonum': '2008'},\n",
       "  {'_rowstamp': '375928',\n",
       "   'wopriority': 5,\n",
       "   'description': 'Scale Calibration on Dock Mis-reading',\n",
       "   'href': 'http://localhost/maximo/api/os/mxapiwo/_QkVERk9SRC8yMDAz',\n",
       "   'wonum': '2003'},\n",
       "  {'_rowstamp': '375661',\n",
       "   'wopriority': 2,\n",
       "   'description': 'Check-out Alignment of Steel Support Bracket',\n",
       "   'href': 'http://localhost/maximo/api/os/mxapiwo/_QkVERk9SRC8yMDA2',\n",
       "   'wonum': '2006'},\n",
       "  {'_rowstamp': '375663',\n",
       "   'wopriority': 5,\n",
       "   'description': 'Fire Door Cable Broken',\n",
       "   'href': 'http://localhost/maximo/api/os/mxapiwo/_QkVERk9SRC81MDA4',\n",
       "   'wonum': '5008'},\n",
       "  {'_rowstamp': '375666',\n",
       "   'wopriority': 2,\n",
       "   'description': 'Check-out Leaking',\n",
       "   'href': 'http://localhost/maximo/api/os/mxapiwo/_QkVERk9SRC8yMDA1',\n",
       "   'wonum': '2005'},\n",
       "  {'_rowstamp': '375669',\n",
       "   'wopriority': 3,\n",
       "   'description': 'Ventilation Fan - Check-out Noise',\n",
       "   'href': 'http://localhost/maximo/api/os/mxapiwo/_QkVERk9SRC8yMDAx',\n",
       "   'wonum': '2001'},\n",
       "  {'_rowstamp': '375673',\n",
       "   'wopriority': 2,\n",
       "   'description': 'Feeder Jammed',\n",
       "   'href': 'http://localhost/maximo/api/os/mxapiwo/_QkVERk9SRC8yMDA0',\n",
       "   'wonum': '2004'},\n",
       "  {'_rowstamp': '375680',\n",
       "   'wopriority': 5,\n",
       "   'description': 'Ventilator in Boiler Room Making Noise - Check-out',\n",
       "   'href': 'http://localhost/maximo/api/os/mxapiwo/_QkVERk9SRC81MDA5',\n",
       "   'wonum': '5009'},\n",
       "  {'_rowstamp': '375682',\n",
       "   'wopriority': 5,\n",
       "   'description': 'Feeder Jammed',\n",
       "   'href': 'http://localhost/maximo/api/os/mxapiwo/_QkVERk9SRC81MDA0',\n",
       "   'wonum': '5004'},\n",
       "  {'_rowstamp': '375683',\n",
       "   'wopriority': 2,\n",
       "   'description': 'Window Broken in Shipping Dept.',\n",
       "   'href': 'http://localhost/maximo/api/os/mxapiwo/_QkVERk9SRC8yMDAw',\n",
       "   'wonum': '2000'},\n",
       "  {'_rowstamp': '375684',\n",
       "   'wopriority': 1,\n",
       "   'description': 'Stop Guard on Shipping Dock',\n",
       "   'href': 'http://localhost/maximo/api/os/mxapiwo/_QkVERk9SRC81MDAy',\n",
       "   'wonum': '5002'},\n",
       "  {'_rowstamp': '375688',\n",
       "   'wopriority': 2,\n",
       "   'description': 'Check-out Alignment of Steel Support Bracket',\n",
       "   'href': 'http://localhost/maximo/api/os/mxapiwo/_QkVERk9SRC81MDA2',\n",
       "   'wonum': '5006'},\n",
       "  {'_rowstamp': '375690',\n",
       "   'wopriority': 3,\n",
       "   'description': 'Stop Guard on Shipping Dock',\n",
       "   'href': 'http://localhost/maximo/api/os/mxapiwo/_QkVERk9SRC8yMDAy',\n",
       "   'wonum': '2002'},\n",
       "  {'_rowstamp': '375691',\n",
       "   'wopriority': 5,\n",
       "   'description': 'Ventilator in Boiler Room Making Noise - Check-out',\n",
       "   'href': 'http://localhost/maximo/api/os/mxapiwo/_QkVERk9SRC8yMDA5',\n",
       "   'wonum': '2009'},\n",
       "  {'_rowstamp': '375806',\n",
       "   'wopriority': 2,\n",
       "   'description': 'Air Filter - Check-out',\n",
       "   'href': 'http://localhost/maximo/api/os/mxapiwo/_QkVERk9SRC81MDA3',\n",
       "   'wonum': '5007'},\n",
       "  {'_rowstamp': '375808',\n",
       "   'wopriority': 4,\n",
       "   'description': 'Check-out Leaking',\n",
       "   'href': 'http://localhost/maximo/api/os/mxapiwo/_QkVERk9SRC81MDA1',\n",
       "   'wonum': '5005'},\n",
       "  {'_rowstamp': '375810',\n",
       "   'wopriority': 1,\n",
       "   'description': 'Scale Calibration on Dock Mis-reading',\n",
       "   'href': 'http://localhost/maximo/api/os/mxapiwo/_QkVERk9SRC81MDAz',\n",
       "   'wonum': '5003'},\n",
       "  {'_rowstamp': '375896',\n",
       "   'wopriority': 7,\n",
       "   'description': 'Feedwater Pump Service',\n",
       "   'href': 'http://localhost/maximo/api/os/mxapiwo/_QkVERk9SRC8xMDA2',\n",
       "   'wonum': '1006'},\n",
       "  {'_rowstamp': '375897',\n",
       "   'wopriority': 5,\n",
       "   'description': 'Air Filter - Check-out',\n",
       "   'href': 'http://localhost/maximo/api/os/mxapiwo/_QkVERk9SRC8yMDA3',\n",
       "   'wonum': '2007'},\n",
       "  {'_rowstamp': '375840',\n",
       "   'wopriority': 3,\n",
       "   'description': 'Ventilation Fan - Check-out Noise',\n",
       "   'href': 'http://localhost/maximo/api/os/mxapiwo/_QkVERk9SRC81MDAx',\n",
       "   'wonum': '5001'},\n",
       "  {'_rowstamp': '376088',\n",
       "   'wopriority': 8,\n",
       "   'description': 'Packaging Mach. Elevator & Drainpan Inspection',\n",
       "   'href': 'http://localhost/maximo/api/os/mxapiwo/_QkVERk9SRC8xMDA3',\n",
       "   'wonum': '1007'}]}"
      ]
     },
     "execution_count": 12,
     "metadata": {},
     "output_type": "execute_result"
    }
   ],
   "source": [
    "params2 = {\n",
    "    \"maximo_payload\": \"\"\"{\n",
    "        \"request_type\": \"get\",\n",
    "        \"params\": {\n",
    "            \"oslc.where\": 'reportdate=\"1998-12-31T09:00:00+00:00\"',\n",
    "            \"oslc.select\": \"description,wopriority,wonum\",\n",
    "            \"lean\": \"1\",\n",
    "            \"ignorecollectionref\": \"1\"\n",
    "        }\n",
    "    }\"\"\"\n",
    "}\n",
    "\n",
    "perform_maximo_operation.invoke(params2)"
   ]
  },
  {
   "cell_type": "code",
   "execution_count": 13,
   "id": "10928947",
   "metadata": {},
   "outputs": [],
   "source": [
    "from langchain_ibm import ChatWatsonx\n",
    "\n",
    "import os\n",
    "from dotenv import load_dotenv\n",
    "_ = load_dotenv()\n",
    "\n",
    "payload_generator_model_params = {\n",
    "            \"decoding_method\": \"greedy\",\n",
    "            \"max_new_tokens\": 500,\n",
    "            \"min_new_tokens\": 1,\n",
    "            \"temperature\": 0.0,\n",
    "            \"top_k\": 50,\n",
    "            \"top_p\": 1,\n",
    "        }\n",
    "\n",
    "llm = ChatWatsonx(   \n",
    "            model_id=\"meta-llama/llama-4-maverick-17b-128e-instruct-fp8\",\n",
    "                url=os.environ[\"WATSONX_URL\"],\n",
    "                apikey=os.environ[\"IBM_CLOUD_APIKEY\"],\n",
    "                project_id=os.environ[\"WATSONX_PROJECT_ID\"],\n",
    "                params=payload_generator_model_params\n",
    "            )"
   ]
  },
  {
   "cell_type": "code",
   "execution_count": 14,
   "id": "a27bb9e7",
   "metadata": {},
   "outputs": [],
   "source": [
    "from langchain_ibm import ChatWatsonx\n",
    "\n",
    "import os\n",
    "from dotenv import load_dotenv\n",
    "_ = load_dotenv()\n",
    "\n",
    "#### Model using Tools\n",
    "payload_generator_model_params = {\n",
    "            \"decoding_method\": \"greedy\",\n",
    "            \"max_new_tokens\": 5000,\n",
    "            \"min_new_tokens\": 1,\n",
    "            \"temperature\": 0.0,\n",
    "            \"top_k\": 50,\n",
    "            \"top_p\": 1,\n",
    "        }\n",
    "\n",
    "llm_with_tools = ChatWatsonx(   \n",
    "            model_id=\"ibm/granite-3-8b-instruct\",\n",
    "                url=os.environ[\"WATSONX_URL\"],\n",
    "                apikey=os.environ[\"IBM_CLOUD_APIKEY\"],\n",
    "                project_id=os.environ[\"WATSONX_PROJECT_ID\"],\n",
    "                params=payload_generator_model_params\n",
    "            )\n",
    "\n",
    "tools = [\n",
    "    generate_maximo_payload,\n",
    "    perform_maximo_operation\n",
    "]\n",
    "\n",
    "llm_with_tools = llm_with_tools.bind_tools(tools)"
   ]
  },
  {
   "cell_type": "code",
   "execution_count": null,
   "id": "7b419d3f",
   "metadata": {},
   "outputs": [],
   "source": []
  },
  {
   "cell_type": "code",
   "execution_count": 15,
   "id": "d8103033",
   "metadata": {},
   "outputs": [],
   "source": [
    "user_input = \"What is the status and priority of work order number 5001?\"\n",
    "system_prompt = SystemMessage(content=\"\"\"<|begin_of_text|><|header_start|>system<|header_end|>\n",
    "You are a Maximo expert. Your job is to translate human or user query into a maximo\n",
    "payload that can be used to make an API Get or Post request. When you receive the human\n",
    "query, you should generate a well-formed payload format. Use the examples to help you. The formats are based on whether or not \n",
    "the query is best served by a get or post request.\n",
    "To help you generate the payload, use your knowledge of oslc syntax and operators to construct the well-formed payload.\n",
    "The user's query may require you to select different fields. Choose the one which the user query is most closely asking for, and use it to select the correct fields to query. Only select the fields given in the list. Do not use any other fields.\n",
    "<wo_fields>\n",
    "[\n",
    "    'acttoolcost', 'apptrequired', 'historyflag', 'aos', 'estservcost',\n",
    "    'pluscismobile', 'actlabcost', 'actoutlabcost', 'estatapprlabhrs',\n",
    "    'estatapprservcost', 'parentchgsstatus', 'estatapprlabcost',\n",
    "    'assetlocpriority', 'ignoresrmavail', 'outtoolcost',\n",
    "    'estatapproutlabhrs', '_rowstamp', 'lms', 'estatapprintlabcost',\n",
    "    'istask', 'siteid', 'href', 'estatapprmatcost', 'totalworkunits',\n",
    "    'suspendflow', 'status_description', 'woisswap', 'wopriority',\n",
    "    'pluscloop', 'actintlabhrs', 'woacceptscharges', 'repairlocflag',\n",
    "    'actmatcost', 'changedate', 'actlabhrs', 'calcpriority', 'chargestore',\n",
    "    'woclass_description', 'outlabcost', 'nestedjpinprocess', 'orgid',\n",
    "    'estatapprtoolcost', 'hasfollowupwork', 'phone', 'woclass',\n",
    "    'actservcost', 'flowactionassist', 'ignorediavail', 'actoutlabhrs',\n",
    "    'reqasstdwntime', 'estmatcost', 'supervisor', 'status',\n",
    "    'inctasksinsched', 'targstartdate', 'flowcontrolled', 'ams',\n",
    "    'reportdate', 'estlabhrs', 'description', 'esttoolcost', 'reportedby',\n",
    "    'estatapproutlabcost', 'newchildclass', 'los', 'djpapplied',\n",
    "    'estoutlabcost', 'estoutlabhrs', 'disabled', 'outmatcost',\n",
    "    'actintlabcost', 'ai_usefortraining', 'estdur', 'changeby', 'worktype',\n",
    "    'estintlabhrs', 'interruptible', 'estlabcost', 'estatapprintlabhrs',\n",
    "    'statusdate', 'wonum', 'downtime', 'glaccount', 'workorderid',\n",
    "    'milestone', 'wogroup', 'location', 'estintlabcost', 'haschildren'\n",
    "]\n",
    "</wo_fields>\n",
    "When generating date and time related queries, use the ISO datetime format such as: \"1999-02-06T00:00:00-05:00\"\n",
    "Once you decide on the operation type, such as Get or Post, you should generate a well-formed payload that can be provided as params to make an api call for the correct request type.\n",
    "If the query does not have all the required information, use the examples below along with the information from the query to help you.\n",
    "Always generate a consistent well-formed payload as a response, like in the example. The <example-get></example-get> provies making queries to the Maximo API that only retrieves data\n",
    "and answers the user query. While the <example-post></example-post> provides making queries to the Maximo API that updates, modifies or changes data in the Maximo database. Make sure you\n",
    "use the correct request type based on what the user is asking and format the correct payload. \n",
    "<example-get1>\n",
    "user_input: What is the status, description and priority of work order number 5012?\n",
    "response: {\n",
    "\t\t\t\"request_type\": \"get\",\n",
    "\t\t\t\"params\": {\n",
    "\t\t\t\t\"oslc.where\": \"wonum=5012\",\n",
    "\t\t\t\t\"oslc.select\": \"wonum,description,wopriority,createdby,workorderid,status,createdate,siteid\",\n",
    "\t\t\t\t\"lean\": \"1\",\n",
    "\t\t\t\t\"ignorecollectionref\": \"1\"\n",
    "\t\t\t\t}\n",
    "\t\t\t}\n",
    "</example-get1>\n",
    "<example-get2>\n",
    "user_input: What was the priority and status of all work orders reported on 1998, December 22?\n",
    "response: {\t\n",
    "\t\"request_type\": \"get\",\n",
    "        \"params\":{\n",
    "\t\t\"oslc.where\": 'reportdate>=\"1998-12-31T00:00:00+00:00\" and reportdate<=\"1998-12-31T23:59:59+00:00\"',\n",
    "\t\t\"oslc.select\": \"wopriority,status\",\n",
    "\t\t\"lean\": \"1\",\n",
    "\t\t\"ignorecollectionref\": \"1\"\n",
    "\t\t}\n",
    "}\n",
    "</example-get2>\n",
    "<example-post>\n",
    "user_input: Make a change to the priority of work order 2 and change the site to Bedford.\n",
    "response: {\n",
    "\t\t\t\"request_type\": \"post\",\n",
    "\t\t\t\"params\": {\n",
    "\t\t\t\t\"wopriority\": \"1\",\n",
    "\t\t\t\t\"siteid\": \"BEDFORD\"\n",
    "\t\t\t\t}\n",
    "\t\t\t}\n",
    "</example-post>\n",
    "Only provide the payload that can be sent to the Maximo API. Ensure it is a valid json.\n",
    "Do not provide any other information or explanation.\n",
    "If the user input is not related to Maximo, send back a response with \n",
    "{\n",
    "\t\"params\": {\n",
    "\t\t\"message\": \"This query is not related to Maximo.\"\n",
    "\t}\n",
    "}\n",
    "</example-post>\n",
    "Now classify the type of request the user is making and generate the well-formed payload. Only output the payload and nothing else.\n",
    "<|eot|><|header_start|>user<|header_end|>\n",
    "<|eot|><|header_start|>assistant<|header_end|>\n",
    "\"\"\")\n",
    "llm = llm\n",
    "\n",
    "# Generate the Maximo payload\n",
    "params_payload_generator = {\n",
    "    \"user_input\": user_input,\n",
    "    \"system_prompt\": system_prompt,\n",
    "    \"llm\": llm\n",
    "}"
   ]
  },
  {
   "cell_type": "code",
   "execution_count": 16,
   "id": "234b7bf9",
   "metadata": {},
   "outputs": [
    {
     "data": {
      "text/plain": [
       "langchain_core.messages.system.SystemMessage"
      ]
     },
     "execution_count": 16,
     "metadata": {},
     "output_type": "execute_result"
    }
   ],
   "source": [
    "type(system_prompt)"
   ]
  },
  {
   "cell_type": "code",
   "execution_count": 17,
   "id": "57122a90",
   "metadata": {},
   "outputs": [
    {
     "data": {
      "text/plain": [
       "{'name': 'generate_maximo_payload',\n",
       " 'description': 'Generates the Maximo payload based on the user input.\\n:param state: The state of the agent containing the user input and to be updated.\\n:return: A dictionary containing the Maximo payload.',\n",
       " 'parameters': {'properties': {'user_input': {'description': 'Thing to search for',\n",
       "    'type': 'string'},\n",
       "   'system_prompt': {'additionalProperties': True,\n",
       "    'description': 'Message for priming AI behavior.\\n\\nThe system message is usually passed in as the first of a sequence\\nof input messages.\\n\\nExample:\\n\\n    .. code-block:: python\\n\\n        from langchain_core.messages import HumanMessage, SystemMessage\\n\\n        messages = [\\n            SystemMessage(\\n                content=\"You are a helpful assistant! Your name is Bob.\"\\n            ),\\n            HumanMessage(\\n                content=\"What is your name?\"\\n            )\\n        ]\\n\\n        # Define a chat model and invoke it with the messages\\n        print(model.invoke(messages))',\n",
       "    'properties': {'content': {'anyOf': [{'type': 'string'},\n",
       "       {'items': {'anyOf': [{'type': 'string'},\n",
       "          {'additionalProperties': True, 'type': 'object'}]},\n",
       "        'type': 'array'}]},\n",
       "     'additional_kwargs': {'additionalProperties': True, 'type': 'object'},\n",
       "     'response_metadata': {'additionalProperties': True, 'type': 'object'},\n",
       "     'type': {'const': 'system', 'default': 'system', 'type': 'string'},\n",
       "     'name': {'anyOf': [{'type': 'string'}, {'type': 'null'}],\n",
       "      'default': None},\n",
       "     'id': {'anyOf': [{'type': 'string'}, {'type': 'null'}], 'default': None}},\n",
       "    'required': ['content'],\n",
       "    'type': 'object'},\n",
       "   'llm': {'description': 'LLM to use for generating the payload'}},\n",
       "  'required': ['user_input', 'system_prompt', 'llm'],\n",
       "  'type': 'object'}}"
      ]
     },
     "execution_count": 17,
     "metadata": {},
     "output_type": "execute_result"
    }
   ],
   "source": [
    "convert_to_openai_function(generate_maximo_payload)"
   ]
  },
  {
   "cell_type": "code",
   "execution_count": 18,
   "id": "dc476654",
   "metadata": {},
   "outputs": [
    {
     "data": {
      "text/plain": [
       "{'request_type': 'get',\n",
       " 'params': {'oslc.where': 'wonum=5001',\n",
       "  'oslc.select': 'status,wopriority',\n",
       "  'lean': '1',\n",
       "  'ignorecollectionref': '1'}}"
      ]
     },
     "execution_count": 18,
     "metadata": {},
     "output_type": "execute_result"
    }
   ],
   "source": [
    "generate_maximo_payload.invoke(params_payload_generator)"
   ]
  },
  {
   "cell_type": "code",
   "execution_count": 29,
   "id": "5e5127a7",
   "metadata": {},
   "outputs": [],
   "source": [
    "from langchain.prompts import ChatPromptTemplate\n",
    "\n",
    "user_input = \"What is the status and priority of work order number 5001?\"\n",
    "prompt = ChatPromptTemplate.from_messages([\n",
    "    (\"system\", \"You are a maximo expert. You will be given a user input and you will use the tools at your disposal to help answer that user query by retrieving the correct data using the tools at your disposal.\"),\n",
    "    (\"user\", \"{user_input}\"),\n",
    "])\n",
    "chain = prompt | llm_with_tools"
   ]
  },
  {
   "cell_type": "code",
   "execution_count": 30,
   "id": "5ca6b521",
   "metadata": {},
   "outputs": [],
   "source": [
    "result = chain.invoke(user_input)"
   ]
  },
  {
   "cell_type": "code",
   "execution_count": 31,
   "id": "4369b161",
   "metadata": {},
   "outputs": [
    {
     "data": {
      "text/plain": [
       "{'lc': 1,\n",
       " 'type': 'constructor',\n",
       " 'id': ['langchain', 'schema', 'messages', 'AIMessage'],\n",
       " 'kwargs': {'content': '',\n",
       "  'additional_kwargs': {'tool_calls': [{'id': 'chatcmpl-tool-63f38b425a4b4a25ad5b295a536ed048',\n",
       "     'type': 'function',\n",
       "     'function': {'name': 'generate_maximo_payload',\n",
       "      'arguments': '{\"user_input\": \"What is the status and priority of work order number 5001?\", \"llm\": \"text-davinci-003\", \"system_prompt\": {\"content\": \"You are a Maximo expert. You will be given a user input and you will use the tools at your disposal to help answer that user query by retrieving the correct data using the tools at your disposal.\\\\n\\\\n    .. code-block:: python\\\\n\\\\n        from langchain_core.messages import HumanMessage\\\\n\\\\n        messages = [\\\\n            HumanMessage(\\\\n                content=\\\\\"What is the status and priority of work order number 5001?\\\\\"\\\\n            )\\\\n        ]\\\\n\\\\n        # Define a chat model and invoke it with the messages\\\\n        print(model.invoke(messages))\", \"id\": null, \"name\": null, \"response_metadata\": {}, \"type\": \"system\"}}'}}]},\n",
       "  'response_metadata': {'token_usage': {'completion_tokens': 225,\n",
       "    'prompt_tokens': 861,\n",
       "    'total_tokens': 1086},\n",
       "   'model_name': 'ibm/granite-3-8b-instruct',\n",
       "   'system_fingerprint': '',\n",
       "   'finish_reason': 'tool_calls'},\n",
       "  'type': 'ai',\n",
       "  'id': 'chatcmpl-8f537112374b62ebc87e7c806757dc5d',\n",
       "  'tool_calls': [{'name': 'generate_maximo_payload',\n",
       "    'args': {'user_input': 'What is the status and priority of work order number 5001?',\n",
       "     'llm': 'text-davinci-003',\n",
       "     'system_prompt': {'content': 'You are a Maximo expert. You will be given a user input and you will use the tools at your disposal to help answer that user query by retrieving the correct data using the tools at your disposal.\\n\\n    .. code-block:: python\\n\\n        from langchain_core.messages import HumanMessage\\n\\n        messages = [\\n            HumanMessage(\\n                content=\"What is the status and priority of work order number 5001?\"\\n            )\\n        ]\\n\\n        # Define a chat model and invoke it with the messages\\n        print(model.invoke(messages))',\n",
       "      'id': None,\n",
       "      'name': None,\n",
       "      'response_metadata': {},\n",
       "      'type': 'system'}},\n",
       "    'id': 'chatcmpl-tool-63f38b425a4b4a25ad5b295a536ed048',\n",
       "    'type': 'tool_call'}],\n",
       "  'usage_metadata': {'input_tokens': 861,\n",
       "   'output_tokens': 225,\n",
       "   'total_tokens': 1086},\n",
       "  'invalid_tool_calls': []}}"
      ]
     },
     "execution_count": 31,
     "metadata": {},
     "output_type": "execute_result"
    }
   ],
   "source": [
    "result.to_json()"
   ]
  },
  {
   "cell_type": "code",
   "execution_count": null,
   "id": "fc80d4a7",
   "metadata": {},
   "outputs": [],
   "source": []
  }
 ],
 "metadata": {
  "kernelspec": {
   "display_name": "base_agent_env",
   "language": "python",
   "name": "python3"
  },
  "language_info": {
   "codemirror_mode": {
    "name": "ipython",
    "version": 3
   },
   "file_extension": ".py",
   "mimetype": "text/x-python",
   "name": "python",
   "nbconvert_exporter": "python",
   "pygments_lexer": "ipython3",
   "version": "3.12.9"
  }
 },
 "nbformat": 4,
 "nbformat_minor": 5
}
