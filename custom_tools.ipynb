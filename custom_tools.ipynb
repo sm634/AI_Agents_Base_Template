{
 "cells": [
  {
   "cell_type": "code",
   "execution_count": 1,
   "id": "8766e40c",
   "metadata": {},
   "outputs": [],
   "source": [
    "\n",
    "from typing import Dict, Any, Optional, List, Annotated, TypedDict, Union\n",
    "from langchain_core.messages import HumanMessage, SystemMessage\n",
    "import operator\n",
    "\n",
    "# ----- Shared State Schema -----\n",
    "class AgentState(TypedDict):\n",
    "    user_input: str\n",
    "    supervisor_decision: Optional[str] = None\n",
    "    maximo_payload: Optional[str] = None\n",
    "    maximo_agent_response: Optional[str] = None\n",
    "    vector_search_result: Optional[str] = None\n",
    "    final_response: Optional[str] = None\n",
    "    memory_chain: Annotated[List[Dict[str, Any]], operator.add] = []\n"
   ]
  },
  {
   "cell_type": "code",
   "execution_count": 2,
   "id": "e53e067c",
   "metadata": {},
   "outputs": [],
   "source": [
    "from langchain.agents import tool\n",
    "import ast\n",
    "from connectors.maximo_connector import MaximoConnector\n",
    "\n",
    "# instantiate maximo connector.\n",
    "maximo_connector = MaximoConnector()"
   ]
  },
  {
   "cell_type": "code",
   "execution_count": 3,
   "id": "174e117b",
   "metadata": {},
   "outputs": [],
   "source": [
    "from pydantic import BaseModel, Field\n",
    "class MaiximoPayloadInput(BaseModel):\n",
    "    maximo_payload: Union[Dict, str] = Field(description=\"The payload to be sent to Maximo.\")"
   ]
  },
  {
   "cell_type": "code",
   "execution_count": 4,
   "id": "97128817",
   "metadata": {},
   "outputs": [],
   "source": [
    "\n",
    "@tool(args_schema=MaiximoPayloadInput)\n",
    "def perform_maximo_operation(maximo_payload: Union[Dict, str]):\n",
    "    \"\"\"\n",
    "    Uses the maximo tools at the llm with tools to perform the maximo operation.\n",
    "    :param state: The state of the agent containing the user input and states to be updated.\n",
    "    :return: A dictionary containing the Maximo payload.\n",
    "    \"\"\"\n",
    "    # Check to see the maximo payload returned, and the response type to perform the correct action.\n",
    "    if isinstance(maximo_payload, str):\n",
    "        maximo_payload = ast.literal_eval(maximo_payload)\n",
    "\n",
    "    request_type = maximo_payload.get(\"request_type\")\n",
    "    params = maximo_payload.get(\"params\")\n",
    "\n",
    "    if request_type.lower() == 'get':\n",
    "        result = maximo_connector.get_workorder_details(params)\n",
    "    elif request_type.lower() == 'post':\n",
    "        result = maximo_connector.post_workorder_details(params)\n",
    "    else:\n",
    "        result = {\n",
    "            \"message\": \"This query is not related to Maximo.\"\n",
    "        }\n",
    "\n",
    "    return {\n",
    "        \"maximo_agent_response\": result\n",
    "    }\n"
   ]
  },
  {
   "cell_type": "code",
   "execution_count": 5,
   "id": "57fa38ac",
   "metadata": {},
   "outputs": [
    {
     "data": {
      "text/plain": [
       "'Uses the maximo tools at the llm with tools to perform the maximo operation.\\n:param state: The state of the agent containing the user input and states to be updated.\\n:return: A dictionary containing the Maximo payload.'"
      ]
     },
     "execution_count": 5,
     "metadata": {},
     "output_type": "execute_result"
    }
   ],
   "source": [
    "perform_maximo_operation.description"
   ]
  },
  {
   "cell_type": "code",
   "execution_count": 6,
   "id": "8df93e83",
   "metadata": {},
   "outputs": [
    {
     "data": {
      "text/plain": [
       "'perform_maximo_operation'"
      ]
     },
     "execution_count": 6,
     "metadata": {},
     "output_type": "execute_result"
    }
   ],
   "source": [
    "perform_maximo_operation.name"
   ]
  },
  {
   "cell_type": "code",
   "execution_count": 7,
   "id": "ea16af40",
   "metadata": {},
   "outputs": [
    {
     "data": {
      "text/plain": [
       "{'maximo_payload': {'anyOf': [{'additionalProperties': True, 'type': 'object'},\n",
       "   {'type': 'string'}],\n",
       "  'description': 'The payload to be sent to Maximo.',\n",
       "  'title': 'Maximo Payload'}}"
      ]
     },
     "execution_count": 7,
     "metadata": {},
     "output_type": "execute_result"
    }
   ],
   "source": [
    "perform_maximo_operation.args"
   ]
  },
  {
   "cell_type": "code",
   "execution_count": 8,
   "id": "d8f28e32",
   "metadata": {},
   "outputs": [],
   "source": [
    "class MaximoPayloadGeneratorInput(BaseModel):\n",
    "    user_input: str = Field(description=\"Thing to search for\")\n",
    "    system_prompt: SystemMessage = Field(description=\"System prompt to use for generating the payload\")\n",
    "    llm: Any = Field(description=\"LLM to use for generating the payload\")\n",
    "\n",
    "@tool(args_schema=MaximoPayloadGeneratorInput)\n",
    "def generate_maximo_payload(user_input, system_prompt, llm) -> Dict[str, Any]:\n",
    "    \"\"\"\n",
    "    Generates the Maximo payload based on the user input.\n",
    "    :param state: The state of the agent containing the user input and to be updated.\n",
    "    :return: A dictionary containing the Maximo payload.\n",
    "    \"\"\"\n",
    "    # Check if the user input is classified as a Maximo operation\n",
    "    user_input = HumanMessage(\n",
    "        content=user_input\n",
    "    )\n",
    "    messages = [\n",
    "        system_prompt,\n",
    "        user_input,\n",
    "    ]\n",
    "\n",
    "    response = llm.invoke(messages)\n",
    "\n",
    "    # validate do a dict.\n",
    "    maximo_payload = ast.literal_eval(response.content)\n",
    "\n",
    "    return maximo_payload"
   ]
  },
  {
   "cell_type": "code",
   "execution_count": 9,
   "id": "6e3ab272",
   "metadata": {},
   "outputs": [
    {
     "name": "stdout",
     "output_type": "stream",
     "text": [
      "Error: <Response [503]>\n"
     ]
    },
    {
     "data": {
      "text/plain": [
       "{'maximo_agent_response': None}"
      ]
     },
     "execution_count": 9,
     "metadata": {},
     "output_type": "execute_result"
    }
   ],
   "source": [
    "params1 = {\n",
    "    \"maximo_payload\": {\n",
    "        \"request_type\": \"get\",\n",
    "        \"params\": {\n",
    "            \"oslc.where\": 'reportdate=\"1998-12-31T09:00:00+00:00\"',\n",
    "            \"oslc.select\": \"description,wopriority,wonum\",\n",
    "            \"lean\": \"1\",\n",
    "            \"ignorecollectionref\": \"1\"\n",
    "        }\n",
    "    }\n",
    "}\n",
    "\n",
    "perform_maximo_operation.invoke(params1)"
   ]
  },
  {
   "cell_type": "code",
   "execution_count": 10,
   "id": "0533cebd",
   "metadata": {},
   "outputs": [
    {
     "name": "stdout",
     "output_type": "stream",
     "text": [
      "Error: <Response [503]>\n"
     ]
    },
    {
     "data": {
      "text/plain": [
       "{'maximo_agent_response': None}"
      ]
     },
     "execution_count": 10,
     "metadata": {},
     "output_type": "execute_result"
    }
   ],
   "source": [
    "params2 = {\n",
    "    \"maximo_payload\": \"\"\"{\n",
    "        \"request_type\": \"get\",\n",
    "        \"params\": {\n",
    "            \"oslc.where\": 'reportdate=\"1998-12-31T09:00:00+00:00\"',\n",
    "            \"oslc.select\": \"description,wopriority,wonum\",\n",
    "            \"lean\": \"1\",\n",
    "            \"ignorecollectionref\": \"1\"\n",
    "        }\n",
    "    }\"\"\"\n",
    "}\n",
    "\n",
    "perform_maximo_operation.invoke(params2)"
   ]
  },
  {
   "cell_type": "code",
   "execution_count": 11,
   "id": "10928947",
   "metadata": {},
   "outputs": [],
   "source": [
    "from langchain_ibm import ChatWatsonx\n",
    "\n",
    "import os\n",
    "from dotenv import load_dotenv\n",
    "_ = load_dotenv()\n",
    "\n",
    "payload_generator_model_params = {\n",
    "            \"decoding_method\": \"greedy\",\n",
    "            \"max_new_tokens\": 500,\n",
    "            \"min_new_tokens\": 1,\n",
    "            \"temperature\": 0.0,\n",
    "            \"top_k\": 50,\n",
    "            \"top_p\": 1,\n",
    "        }\n",
    "\n",
    "llm = ChatWatsonx(   \n",
    "            model_id=\"meta-llama/llama-4-maverick-17b-128e-instruct-fp8\",\n",
    "                url=os.environ[\"WATSONX_URL\"],\n",
    "                apikey=os.environ[\"IBM_CLOUD_APIKEY\"],\n",
    "                project_id=os.environ[\"WATSONX_PROJECT_ID\"],\n",
    "                params=payload_generator_model_params\n",
    "            )"
   ]
  },
  {
   "cell_type": "code",
   "execution_count": 12,
   "id": "a27bb9e7",
   "metadata": {},
   "outputs": [],
   "source": [
    "from langchain_ibm import ChatWatsonx\n",
    "\n",
    "import os\n",
    "from dotenv import load_dotenv\n",
    "_ = load_dotenv()\n",
    "\n",
    "#### Model using Tools\n",
    "payload_generator_model_params = {\n",
    "            \"decoding_method\": \"greedy\",\n",
    "            \"max_new_tokens\": 5000,\n",
    "            \"min_new_tokens\": 1,\n",
    "            \"temperature\": 0.0,\n",
    "            \"top_k\": 50,\n",
    "            \"top_p\": 1,\n",
    "        }\n",
    "\n",
    "llm_with_tools = ChatWatsonx(   \n",
    "            model_id=\"mistralai/mistral-large\",\n",
    "                url=os.environ[\"WATSONX_URL\"],\n",
    "                apikey=os.environ[\"IBM_CLOUD_APIKEY\"],\n",
    "                project_id=os.environ[\"WATSONX_PROJECT_ID\"],\n",
    "                params=payload_generator_model_params\n",
    "            )\n",
    "\n",
    "tools = [\n",
    "    generate_maximo_payload,\n",
    "    perform_maximo_operation\n",
    "]\n",
    "\n",
    "llm_with_tools = llm_with_tools.bind_tools(tools)"
   ]
  },
  {
   "cell_type": "code",
   "execution_count": null,
   "id": "7b419d3f",
   "metadata": {},
   "outputs": [],
   "source": []
  },
  {
   "cell_type": "code",
   "execution_count": 13,
   "id": "d8103033",
   "metadata": {},
   "outputs": [],
   "source": [
    "user_input = \"What is the status and priority of work order number 5001?\"\n",
    "system_prompt = SystemMessage(content=\"\"\"<|begin_of_text|><|header_start|>system<|header_end|>\n",
    "You are a Maximo expert. Your job is to translate human or user query into a maximo\n",
    "payload that can be used to make an API Get or Post request. When you receive the human\n",
    "query, you should generate a well-formed payload format. Use the examples to help you. The formats are based on whether or not \n",
    "the query is best served by a get or post request.\n",
    "To help you generate the payload, use your knowledge of oslc syntax and operators to construct the well-formed payload.\n",
    "The user's query may require you to select different fields. Choose the one which the user query is most closely asking for, and use it to select the correct fields to query. Only select the fields given in the list. Do not use any other fields.\n",
    "<wo_fields>\n",
    "[\n",
    "    'acttoolcost', 'apptrequired', 'historyflag', 'aos', 'estservcost',\n",
    "    'pluscismobile', 'actlabcost', 'actoutlabcost', 'estatapprlabhrs',\n",
    "    'estatapprservcost', 'parentchgsstatus', 'estatapprlabcost',\n",
    "    'assetlocpriority', 'ignoresrmavail', 'outtoolcost',\n",
    "    'estatapproutlabhrs', '_rowstamp', 'lms', 'estatapprintlabcost',\n",
    "    'istask', 'siteid', 'href', 'estatapprmatcost', 'totalworkunits',\n",
    "    'suspendflow', 'status_description', 'woisswap', 'wopriority',\n",
    "    'pluscloop', 'actintlabhrs', 'woacceptscharges', 'repairlocflag',\n",
    "    'actmatcost', 'changedate', 'actlabhrs', 'calcpriority', 'chargestore',\n",
    "    'woclass_description', 'outlabcost', 'nestedjpinprocess', 'orgid',\n",
    "    'estatapprtoolcost', 'hasfollowupwork', 'phone', 'woclass',\n",
    "    'actservcost', 'flowactionassist', 'ignorediavail', 'actoutlabhrs',\n",
    "    'reqasstdwntime', 'estmatcost', 'supervisor', 'status',\n",
    "    'inctasksinsched', 'targstartdate', 'flowcontrolled', 'ams',\n",
    "    'reportdate', 'estlabhrs', 'description', 'esttoolcost', 'reportedby',\n",
    "    'estatapproutlabcost', 'newchildclass', 'los', 'djpapplied',\n",
    "    'estoutlabcost', 'estoutlabhrs', 'disabled', 'outmatcost',\n",
    "    'actintlabcost', 'ai_usefortraining', 'estdur', 'changeby', 'worktype',\n",
    "    'estintlabhrs', 'interruptible', 'estlabcost', 'estatapprintlabhrs',\n",
    "    'statusdate', 'wonum', 'downtime', 'glaccount', 'workorderid',\n",
    "    'milestone', 'wogroup', 'location', 'estintlabcost', 'haschildren'\n",
    "]\n",
    "</wo_fields>\n",
    "When generating date and time related queries, use the ISO datetime format such as: \"1999-02-06T00:00:00-05:00\"\n",
    "Once you decide on the operation type, such as Get or Post, you should generate a well-formed payload that can be provided as params to make an api call for the correct request type.\n",
    "If the query does not have all the required information, use the examples below along with the information from the query to help you.\n",
    "Always generate a consistent well-formed payload as a response, like in the example. The <example-get></example-get> provies making queries to the Maximo API that only retrieves data\n",
    "and answers the user query. While the <example-post></example-post> provides making queries to the Maximo API that updates, modifies or changes data in the Maximo database. Make sure you\n",
    "use the correct request type based on what the user is asking and format the correct payload. \n",
    "<example-get1>\n",
    "user_input: What is the status, description and priority of work order number 5012?\n",
    "response: {\n",
    "\t\t\t\"request_type\": \"get\",\n",
    "\t\t\t\"params\": {\n",
    "\t\t\t\t\"oslc.where\": \"wonum=5012\",\n",
    "\t\t\t\t\"oslc.select\": \"wonum,description,wopriority,createdby,workorderid,status,createdate,siteid\",\n",
    "\t\t\t\t\"lean\": \"1\",\n",
    "\t\t\t\t\"ignorecollectionref\": \"1\"\n",
    "\t\t\t\t}\n",
    "\t\t\t}\n",
    "</example-get1>\n",
    "<example-get2>\n",
    "user_input: What was the priority and status of all work orders reported on 1998, December 22?\n",
    "response: {\t\n",
    "\t\"request_type\": \"get\",\n",
    "        \"params\":{\n",
    "\t\t\"oslc.where\": 'reportdate>=\"1998-12-31T00:00:00+00:00\" and reportdate<=\"1998-12-31T23:59:59+00:00\"',\n",
    "\t\t\"oslc.select\": \"wopriority,status\",\n",
    "\t\t\"lean\": \"1\",\n",
    "\t\t\"ignorecollectionref\": \"1\"\n",
    "\t\t}\n",
    "}\n",
    "</example-get2>\n",
    "<example-post>\n",
    "user_input: Make a change to the priority of work order 2 and change the site to Bedford.\n",
    "response: {\n",
    "\t\t\t\"request_type\": \"post\",\n",
    "\t\t\t\"params\": {\n",
    "\t\t\t\t\"wopriority\": \"1\",\n",
    "\t\t\t\t\"siteid\": \"BEDFORD\"\n",
    "\t\t\t\t}\n",
    "\t\t\t}\n",
    "</example-post>\n",
    "Only provide the payload that can be sent to the Maximo API. Ensure it is a valid json.\n",
    "Do not provide any other information or explanation.\n",
    "If the user input is not related to Maximo, send back a response with \n",
    "{\n",
    "\t\"params\": {\n",
    "\t\t\"message\": \"This query is not related to Maximo.\"\n",
    "\t}\n",
    "}\n",
    "</example-post>\n",
    "Now classify the type of request the user is making and generate the well-formed payload. Only output the payload and nothing else.\n",
    "<|eot|><|header_start|>user<|header_end|>\n",
    "<|eot|><|header_start|>assistant<|header_end|>\n",
    "\"\"\")\n",
    "llm = llm\n",
    "\n",
    "# Generate the Maximo payload\n",
    "params_payload_generator = {\n",
    "    \"user_input\": user_input,\n",
    "    \"system_prompt\": system_prompt,\n",
    "    \"llm\": llm\n",
    "}"
   ]
  },
  {
   "cell_type": "code",
   "execution_count": 14,
   "id": "234b7bf9",
   "metadata": {},
   "outputs": [
    {
     "data": {
      "text/plain": [
       "langchain_core.messages.system.SystemMessage"
      ]
     },
     "execution_count": 14,
     "metadata": {},
     "output_type": "execute_result"
    }
   ],
   "source": [
    "type(system_prompt)"
   ]
  },
  {
   "cell_type": "code",
   "execution_count": null,
   "id": "57122a90",
   "metadata": {},
   "outputs": [],
   "source": []
  },
  {
   "cell_type": "code",
   "execution_count": 16,
   "id": "dc476654",
   "metadata": {},
   "outputs": [
    {
     "data": {
      "text/plain": [
       "{'request_type': 'get',\n",
       " 'params': {'oslc.where': 'wonum=5001',\n",
       "  'oslc.select': 'status,wopriority',\n",
       "  'lean': '1',\n",
       "  'ignorecollectionref': '1'}}"
      ]
     },
     "execution_count": 16,
     "metadata": {},
     "output_type": "execute_result"
    }
   ],
   "source": [
    "generate_maximo_payload.invoke(params_payload_generator)"
   ]
  },
  {
   "cell_type": "code",
   "execution_count": 19,
   "id": "5e5127a7",
   "metadata": {},
   "outputs": [],
   "source": [
    "from config import Config\n",
    "# instantiate the parameters for the agent.\n",
    "agent_params = Config.maximo_agent_params\n",
    "model_id = agent_params['model_id']\n",
    "model_params = agent_params['model_parameters']\n",
    "llm_with_tools = ChatWatsonx(\n",
    "    model_id=model_id,\n",
    "        url=os.environ[\"WATSONX_URL\"],\n",
    "        apikey=os.environ[\"IBM_CLOUD_APIKEY\"],\n",
    "        project_id=os.environ[\"WATSONX_PROJECT_ID\"],\n",
    "        params=model_params\n",
    "    )\n",
    "\n",
    "llm_with_tools = llm_with_tools.bind_tools(tools)"
   ]
  },
  {
   "cell_type": "code",
   "execution_count": 20,
   "id": "5ca6b521",
   "metadata": {},
   "outputs": [],
   "source": [
    "from prompt_reference.maximo_agent_prompts import MaximoAgentPrompts\n",
    "\n",
    "state = AgentState(user_input=\"what is the state and priority of work order 5001?\")\n",
    "\n",
    "system_message = MaximoAgentPrompts.maximo_agent_prompt.format(state=state)\n",
    "message = [\n",
    "    SystemMessage(content=system_message),\n",
    "    HumanMessage(content=f\"{state['user_input']}\")\n",
    "]\n",
    "agent_response = llm_with_tools.invoke(message)"
   ]
  },
  {
   "cell_type": "code",
   "execution_count": 22,
   "id": "4369b161",
   "metadata": {},
   "outputs": [
    {
     "data": {
      "text/plain": [
       "[{'name': 'generate_maximo_payload',\n",
       "  'args': {'llm': 'llm',\n",
       "   'system_prompt': {'content': \"You are a maximo expert. Your job is to make sure you use the tools at your disposal to the best of your ability to answer the user query. \\n        In general the tool either allow you to transform the user query into a well-formed payload that can be used to make an API Get or Post request or to execute the api request. \\n        Then you will make the next decision based on the response from the tools. \\n\\n        Use the state to keep track of the user input and the response from the tools. \\n        {'user_input': 'what is the state and priority of work order 5001?'} \\n\\n        For example, if the state contains a value for maximo_payload, then you should call the perform_maximo_operator tool. If there is no payload, then you will need to use the \\n        generate_maximo_payload tool to generate the payload. \\n        Always use your best judgment to decide which tool to use and when to use it. \\n\\nwhat is the state and priority of work order 5001?\"},\n",
       "   'user_input': 'what is the state and priority of work order 5001?'},\n",
       "  'id': 'xOEXr7YdS',\n",
       "  'type': 'tool_call'}]"
      ]
     },
     "execution_count": 22,
     "metadata": {},
     "output_type": "execute_result"
    }
   ],
   "source": [
    "agent_response.tool_calls"
   ]
  },
  {
   "cell_type": "code",
   "execution_count": null,
   "id": "7e0cd9c6",
   "metadata": {},
   "outputs": [],
   "source": []
  },
  {
   "cell_type": "markdown",
   "id": "60682014",
   "metadata": {},
   "source": []
  }
 ],
 "metadata": {
  "kernelspec": {
   "display_name": "base_agent_env",
   "language": "python",
   "name": "python3"
  },
  "language_info": {
   "codemirror_mode": {
    "name": "ipython",
    "version": 3
   },
   "file_extension": ".py",
   "mimetype": "text/x-python",
   "name": "python",
   "nbconvert_exporter": "python",
   "pygments_lexer": "ipython3",
   "version": "3.12.9"
  }
 },
 "nbformat": 4,
 "nbformat_minor": 5
}
